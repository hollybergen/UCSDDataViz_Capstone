{
 "cells": [
  {
   "cell_type": "code",
   "execution_count": 76,
   "metadata": {},
   "outputs": [],
   "source": [
    " # Dependencies\n",
    "import requests\n",
    "import pandas as pd\n",
    "# from config import api_key\n",
    "import time\n",
    "\n",
    "url = \"https://api.nytimes.com/svc/archive/v1\"\n",
    "\n",
    "# Search for articles published between a begin and end date\n",
    "year = \"2016\"\n",
    "month = 1\n",
    "api_key = \"qas7Kk3NQyFoaLqK2pTZxN1IdMBtzG4a\"\n",
    "\n",
    "# https://api.nytimes.com/svc/archive/v1/2019/1.json?api-key=qas7Kk3NQyFoaLqK2pTZxN1IdMBtzG4a\n",
    "\n",
    "query_url = f\"{url}/{year}/{month}.json?api-key={api_key}\""
   ]
  },
  {
   "cell_type": "code",
   "execution_count": 77,
   "metadata": {},
   "outputs": [],
   "source": [
    "articles = requests.get(query_url).json()"
   ]
  },
  {
   "cell_type": "code",
   "execution_count": 78,
   "metadata": {},
   "outputs": [
    {
     "data": {
      "text/plain": [
       "{'web_url': 'https://www.nytimes.com/slideshow/2016/01/01/nytnow/the-week-on-instagram.html',\n",
       " 'snippet': 'Photos posted on @nytimes during the last week of 2015 took followers from an island in Antarctica to Times Square, before the ball dropped....',\n",
       " 'lead_paragraph': 'Photos posted on @nytimes during the last week of 2015 took followers from an island in Antarctica to Times Square, before the ball dropped.',\n",
       " 'abstract': None,\n",
       " 'print_page': None,\n",
       " 'blog': [],\n",
       " 'source': 'The New York Times',\n",
       " 'multimedia': [{'width': 190,\n",
       "   'url': 'images/2016/01/01/nytnow/the-week-on-instagram-slide-8Y3Z/the-week-on-instagram-slide-8Y3Z-thumbWide.jpg',\n",
       "   'height': 126,\n",
       "   'subtype': 'wide',\n",
       "   'legacy': {'wide': 'images/2016/01/01/nytnow/the-week-on-instagram-slide-8Y3Z/the-week-on-instagram-slide-8Y3Z-thumbWide.jpg',\n",
       "    'wideheight': '126',\n",
       "    'widewidth': '190'},\n",
       "   'type': 'image'},\n",
       "  {'width': 600,\n",
       "   'url': 'images/2016/01/01/nytnow/the-week-on-instagram-slide-8Y3Z/the-week-on-instagram-slide-8Y3Z-articleLarge.jpg',\n",
       "   'height': 600,\n",
       "   'subtype': 'xlarge',\n",
       "   'legacy': {'xlargewidth': '600',\n",
       "    'xlarge': 'images/2016/01/01/nytnow/the-week-on-instagram-slide-8Y3Z/the-week-on-instagram-slide-8Y3Z-articleLarge.jpg',\n",
       "    'xlargeheight': '600'},\n",
       "   'type': 'image'},\n",
       "  {'width': 75,\n",
       "   'url': 'images/2016/01/01/nytnow/the-week-on-instagram-slide-8Y3Z/the-week-on-instagram-slide-8Y3Z-thumbStandard.jpg',\n",
       "   'height': 75,\n",
       "   'subtype': 'thumbnail',\n",
       "   'legacy': {'thumbnailheight': '75',\n",
       "    'thumbnail': 'images/2016/01/01/nytnow/the-week-on-instagram-slide-8Y3Z/the-week-on-instagram-slide-8Y3Z-thumbStandard.jpg',\n",
       "    'thumbnailwidth': '75'},\n",
       "   'type': 'image'}],\n",
       " 'headline': {'main': 'The Week on Instagram'},\n",
       " 'keywords': [],\n",
       " 'pub_date': '2016-01-01T00:00:00Z',\n",
       " 'document_type': 'multimedia',\n",
       " 'news_desk': 'NYT Now',\n",
       " 'section_name': 'NYT Now',\n",
       " 'subsection_name': None,\n",
       " 'byline': [],\n",
       " 'type_of_material': 'Slideshow',\n",
       " '_id': '5687cefb38f0d82225327003',\n",
       " 'word_count': '24',\n",
       " 'slideshow_credits': 'Ben C. Solomon/The New York Times'}"
      ]
     },
     "execution_count": 78,
     "metadata": {},
     "output_type": "execute_result"
    }
   ],
   "source": [
    "articles['response']['docs'][0]"
   ]
  },
  {
   "cell_type": "code",
   "execution_count": 79,
   "metadata": {},
   "outputs": [],
   "source": [
    "list_items = []\n",
    "for item in range(len(articles['response']['docs'])):\n",
    "\n",
    "    headline = articles['response']['docs'][item]['headline']['main']\n",
    "    section = articles['response']['docs'][item]['section_name']\n",
    "    date = articles['response']['docs'][item]['pub_date']\n",
    "    word_count = articles['response']['docs'][item]['word_count']\n",
    "    record = {\n",
    "        'headline': headline,\n",
    "        'section': section,\n",
    "        'date': date,\n",
    "        'word_count': word_count\n",
    "    }\n",
    "    list_items.append(record)"
   ]
  },
  {
   "cell_type": "code",
   "execution_count": 80,
   "metadata": {},
   "outputs": [
    {
     "data": {
      "text/plain": [
       "7644"
      ]
     },
     "execution_count": 80,
     "metadata": {},
     "output_type": "execute_result"
    }
   ],
   "source": [
    "headlinedf = pd.DataFrame(list_items)\n",
    "\n",
    "\n",
    "len(headlinedf)"
   ]
  },
  {
   "cell_type": "code",
   "execution_count": 81,
   "metadata": {},
   "outputs": [
    {
     "data": {
      "text/html": [
       "<div>\n",
       "<style scoped>\n",
       "    .dataframe tbody tr th:only-of-type {\n",
       "        vertical-align: middle;\n",
       "    }\n",
       "\n",
       "    .dataframe tbody tr th {\n",
       "        vertical-align: top;\n",
       "    }\n",
       "\n",
       "    .dataframe thead th {\n",
       "        text-align: right;\n",
       "    }\n",
       "</style>\n",
       "<table border=\"1\" class=\"dataframe\">\n",
       "  <thead>\n",
       "    <tr style=\"text-align: right;\">\n",
       "      <th></th>\n",
       "      <th>date</th>\n",
       "      <th>headline</th>\n",
       "      <th>section</th>\n",
       "      <th>word_count</th>\n",
       "    </tr>\n",
       "  </thead>\n",
       "  <tbody>\n",
       "    <tr>\n",
       "      <th>0</th>\n",
       "      <td>2016-01-01T00:00:00Z</td>\n",
       "      <td>The Week on Instagram</td>\n",
       "      <td>NYT Now</td>\n",
       "      <td>24</td>\n",
       "    </tr>\n",
       "    <tr>\n",
       "      <th>1</th>\n",
       "      <td>2016-01-01T22:00:56Z</td>\n",
       "      <td>Mass Master</td>\n",
       "      <td>Crosswords &amp; Games</td>\n",
       "      <td>618</td>\n",
       "    </tr>\n",
       "    <tr>\n",
       "      <th>2</th>\n",
       "      <td>2016-01-01T21:17:09Z</td>\n",
       "      <td>Friday Night Music: More Wild Reeds</td>\n",
       "      <td>Opinion</td>\n",
       "      <td>13</td>\n",
       "    </tr>\n",
       "    <tr>\n",
       "      <th>3</th>\n",
       "      <td>2016-01-01T00:00:00Z</td>\n",
       "      <td>Our Favorite Styles Photos of 2015</td>\n",
       "      <td>Fashion &amp; Style</td>\n",
       "      <td>58</td>\n",
       "    </tr>\n",
       "    <tr>\n",
       "      <th>4</th>\n",
       "      <td>2016-01-01T19:10:36Z</td>\n",
       "      <td>Wishes for the New Year</td>\n",
       "      <td>N.Y. / Region</td>\n",
       "      <td>16</td>\n",
       "    </tr>\n",
       "  </tbody>\n",
       "</table>\n",
       "</div>"
      ],
      "text/plain": [
       "                   date                             headline  \\\n",
       "0  2016-01-01T00:00:00Z                The Week on Instagram   \n",
       "1  2016-01-01T22:00:56Z                          Mass Master   \n",
       "2  2016-01-01T21:17:09Z  Friday Night Music: More Wild Reeds   \n",
       "3  2016-01-01T00:00:00Z   Our Favorite Styles Photos of 2015   \n",
       "4  2016-01-01T19:10:36Z              Wishes for the New Year   \n",
       "\n",
       "              section word_count  \n",
       "0             NYT Now         24  \n",
       "1  Crosswords & Games        618  \n",
       "2             Opinion         13  \n",
       "3     Fashion & Style         58  \n",
       "4       N.Y. / Region         16  "
      ]
     },
     "execution_count": 81,
     "metadata": {},
     "output_type": "execute_result"
    }
   ],
   "source": [
    "headlinedf.head()"
   ]
  },
  {
   "cell_type": "code",
   "execution_count": 82,
   "metadata": {},
   "outputs": [
    {
     "data": {
      "text/plain": [
       "U.S.                          997\n",
       "Paid Death Notices            825\n",
       "Sports                        693\n",
       "World                         691\n",
       "Opinion                       652\n",
       "Arts                          596\n",
       "Business Day                  559\n",
       "N.Y. / Region                 464\n",
       "Fashion & Style               315\n",
       "Books                         167\n",
       "Movies                        163\n",
       "T Magazine                    141\n",
       "Technology                    134\n",
       "Real Estate                   117\n",
       "Health                         91\n",
       "Travel                         90\n",
       "NYT Now                        88\n",
       "Theater                        84\n",
       "Food                           84\n",
       "Education                      83\n",
       "Magazine                       79\n",
       "Science                        69\n",
       "Blogs                          69\n",
       "The Upshot                     62\n",
       "Universal                      61\n",
       "Crosswords & Games             41\n",
       "Multimedia/Photos              40\n",
       "Corrections                    36\n",
       "Your Money                     35\n",
       "Obituaries                     28\n",
       "Today’s Paper                  26\n",
       "Times Insider                  18\n",
       "Automobiles                    13\n",
       "Style                          12\n",
       "Job Market                      8\n",
       "Times Topics                    4\n",
       "Sunday Review                   3\n",
       "Multimedia                      2\n",
       "Great Homes & Destinations      2\n",
       "membercenter                    1\n",
       "Public Editor                   1\n",
       "Name: section, dtype: int64"
      ]
     },
     "execution_count": 82,
     "metadata": {},
     "output_type": "execute_result"
    }
   ],
   "source": [
    "headlinedf['section'].value_counts()"
   ]
  },
  {
   "cell_type": "code",
   "execution_count": 83,
   "metadata": {},
   "outputs": [],
   "source": [
    "headlinedf = headlinedf[headlinedf['section'] != 'Opinion']"
   ]
  },
  {
   "cell_type": "code",
   "execution_count": 84,
   "metadata": {},
   "outputs": [],
   "source": [
    "headlinedf = headlinedf[headlinedf['section'] != 'Blogs']"
   ]
  },
  {
   "cell_type": "code",
   "execution_count": 85,
   "metadata": {},
   "outputs": [
    {
     "data": {
      "text/plain": [
       "6923"
      ]
     },
     "execution_count": 85,
     "metadata": {},
     "output_type": "execute_result"
    }
   ],
   "source": [
    "len(headlinedf)"
   ]
  },
  {
   "cell_type": "code",
   "execution_count": 86,
   "metadata": {},
   "outputs": [],
   "source": [
    "headlinedf.to_csv('fake_news_v2.csv')"
   ]
  },
  {
   "cell_type": "code",
   "execution_count": null,
   "metadata": {},
   "outputs": [],
   "source": []
  }
 ],
 "metadata": {
  "kernelspec": {
   "display_name": "Python 3",
   "language": "python",
   "name": "python3"
  },
  "language_info": {
   "codemirror_mode": {
    "name": "ipython",
    "version": 3
   },
   "file_extension": ".py",
   "mimetype": "text/x-python",
   "name": "python",
   "nbconvert_exporter": "python",
   "pygments_lexer": "ipython3",
   "version": "3.7.0"
  }
 },
 "nbformat": 4,
 "nbformat_minor": 2
}
