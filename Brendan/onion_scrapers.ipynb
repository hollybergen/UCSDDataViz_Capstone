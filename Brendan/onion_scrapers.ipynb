{
 "cells": [
  {
   "cell_type": "code",
   "execution_count": 31,
   "metadata": {},
   "outputs": [],
   "source": [
    "from bs4 import BeautifulSoup\n",
    "import requests\n",
    "import pymongo\n",
    "import pandas as pd"
   ]
  },
  {
   "cell_type": "code",
   "execution_count": 32,
   "metadata": {},
   "outputs": [],
   "source": [
    "# URL of page to be scraped\n",
    "url = 'https://www.theonion.com/'\n",
    "\n",
    "# Retrieve page with the requests module\n",
    "response = requests.get(url)\n",
    "\n",
    "# Create BeautifulSoup object; parse with 'lxml'\n",
    "soup = BeautifulSoup(response.text, 'lxml')"
   ]
  },
  {
   "cell_type": "code",
   "execution_count": 33,
   "metadata": {},
   "outputs": [
    {
     "data": {
      "text/plain": [
       "['God Orders All Followers To Swallow Cyanide Capsules In Preparation For Voyage To Alpha Centauri',\n",
       " 'Supreme Court Rejects Adding Census Citizenship Question',\n",
       " 'Extremely Effective Therapist Just Lets Patients Beat Shit Out Of Him For 45 Minutes',\n",
       " 'Mueller To Testify Before Congress',\n",
       " 'Highlights Of The Democratic Primary Debate Day 2',\n",
       " 'CD Projekt Red Announces ‘Cyberpunk 2077’ Will Have A Gender-Neutral Character Creator, However Everyone Will Be Christian',\n",
       " 'Illinois Legalizes Marijuana',\n",
       " 'Experts Say Earliest Warning Signs Of Mental Health Issues Usually Crossing Eyes While Dribbling Finger On Lips, Saying ‘Cuckoo, Cuckoo’',\n",
       " 'Naked Andrew Yang Emerges From Time Vortex To Warn Debate Audience About Looming Threat Of Automation',\n",
       " 'Trump Picks Stephanie Grisham As New Press Secretary',\n",
       " 'Highlights Of The Democratic Primary Debate Day 1',\n",
       " 'Breaking New Ground: Beto O’Rourke Has Become The First Presidential Candidate Available As A ‘Smash Ultimate’ DLC Fighter',\n",
       " 'OSHA Special Ops Team Raids Local Office After Receiving Intel On Expired Fire Extinguisher',\n",
       " 'Historians Reveal Aqueducts Were Only Small Portion Of Ancient Rome’s Intricate Water Park System',\n",
       " 'Driver Kind Of Bummed To See Other Car He Been Driving Behind For A While Take Exit Off Highway',\n",
       " 'Pence Declines To Say Whether Climate Change A Threat',\n",
       " '13.5 Million Americans Tune In To Watch Animal Planet’s ‘Puppy Parley’ During DNC Debate Halftime Show',\n",
       " 'Presidential Debate Sidetracked By Booker, De Blasio Arguing About Best Place In Lower Manhattan To Get Tapas']"
      ]
     },
     "execution_count": 33,
     "metadata": {},
     "output_type": "execute_result"
    }
   ],
   "source": [
    "# Examine the results, then determine element that contains sought info\n",
    "# results are returned as an iterable list\n",
    "fp_results = soup.find_all('h1', class_=\"cw4lnv-6 bqxOdn sc-759qgu-0 jJoMDo\")\n",
    "fp_headers = [fp_results[item].text for item in range(len(fp_results))]\n",
    "fp_headers"
   ]
  },
  {
   "cell_type": "code",
   "execution_count": 34,
   "metadata": {},
   "outputs": [],
   "source": [
    "more_results = soup.find_all('h5')"
   ]
  },
  {
   "cell_type": "code",
   "execution_count": 35,
   "metadata": {},
   "outputs": [],
   "source": [
    "more_headers = [more_results[item].text for item in range(len(more_results)) if more_results[item].text.lower() !='more from the onion']"
   ]
  },
  {
   "cell_type": "code",
   "execution_count": 36,
   "metadata": {},
   "outputs": [
    {
     "name": "stdout",
     "output_type": "stream",
     "text": [
      "Beto O’Rourke Has Become The First Presidential Candidate Available As A ‘Smash Ultimate’ DLC Fighter\n",
      "Historians Reveal Aqueducts Were Only Small Portion Of Ancient Rome’s Intricate Water Park System\n",
      "Driver Kind Of Bummed To See Other Car He Been Driving Behind For A While Take Exit Off Highway\n",
      "Presidential Debate Sidetracked By Booker, De Blasio Arguing About Best Place In Lower Manhattan To Get Tapas\n"
     ]
    }
   ],
   "source": [
    "for header in more_headers: \n",
    "    print(header)"
   ]
  },
  {
   "cell_type": "code",
   "execution_count": 37,
   "metadata": {},
   "outputs": [
    {
     "data": {
      "text/plain": [
       "['Beto O’Rourke Has Become The First Presidential Candidate Available As A ‘Smash Ultimate’ DLC Fighter',\n",
       " 'Historians Reveal Aqueducts Were Only Small Portion Of Ancient Rome’s Intricate Water Park System',\n",
       " 'Driver Kind Of Bummed To See Other Car He Been Driving Behind For A While Take Exit Off Highway',\n",
       " 'Presidential Debate Sidetracked By Booker, De Blasio Arguing About Best Place In Lower Manhattan To Get Tapas']"
      ]
     },
     "execution_count": 37,
     "metadata": {},
     "output_type": "execute_result"
    }
   ],
   "source": [
    "more_headers"
   ]
  },
  {
   "cell_type": "code",
   "execution_count": 38,
   "metadata": {},
   "outputs": [],
   "source": [
    "onion_headers = fp_headers + more_headers"
   ]
  },
  {
   "cell_type": "code",
   "execution_count": 39,
   "metadata": {},
   "outputs": [
    {
     "name": "stdout",
     "output_type": "stream",
     "text": [
      "['God Orders All Followers To Swallow Cyanide Capsules In Preparation For Voyage To Alpha Centauri', 'Supreme Court Rejects Adding Census Citizenship Question', 'Extremely Effective Therapist Just Lets Patients Beat Shit Out Of Him For 45 Minutes', 'Mueller To Testify Before Congress', 'Highlights Of The Democratic Primary Debate Day 2', 'CD Projekt Red Announces ‘Cyberpunk 2077’ Will Have A Gender-Neutral Character Creator, However Everyone Will Be Christian', 'Illinois Legalizes Marijuana', 'Experts Say Earliest Warning Signs Of Mental Health Issues Usually Crossing Eyes While Dribbling Finger On Lips, Saying ‘Cuckoo, Cuckoo’', 'Naked Andrew Yang Emerges From Time Vortex To Warn Debate Audience About Looming Threat Of Automation', 'Trump Picks Stephanie Grisham As New Press Secretary', 'Highlights Of The Democratic Primary Debate Day 1', 'Breaking New Ground: Beto O’Rourke Has Become The First Presidential Candidate Available As A ‘Smash Ultimate’ DLC Fighter', 'OSHA Special Ops Team Raids Local Office After Receiving Intel On Expired Fire Extinguisher', 'Historians Reveal Aqueducts Were Only Small Portion Of Ancient Rome’s Intricate Water Park System', 'Driver Kind Of Bummed To See Other Car He Been Driving Behind For A While Take Exit Off Highway', 'Pence Declines To Say Whether Climate Change A Threat', '13.5 Million Americans Tune In To Watch Animal Planet’s ‘Puppy Parley’ During DNC Debate Halftime Show', 'Presidential Debate Sidetracked By Booker, De Blasio Arguing About Best Place In Lower Manhattan To Get Tapas', 'Beto O’Rourke Has Become The First Presidential Candidate Available As A ‘Smash Ultimate’ DLC Fighter', 'Historians Reveal Aqueducts Were Only Small Portion Of Ancient Rome’s Intricate Water Park System', 'Driver Kind Of Bummed To See Other Car He Been Driving Behind For A While Take Exit Off Highway', 'Presidential Debate Sidetracked By Booker, De Blasio Arguing About Best Place In Lower Manhattan To Get Tapas']\n"
     ]
    }
   ],
   "source": [
    "print(onion_headers)"
   ]
  },
  {
   "cell_type": "code",
   "execution_count": 40,
   "metadata": {},
   "outputs": [],
   "source": [
    "#function to calculate number of character in str\n",
    "def count_chars(txt):\n",
    "    result = 0\n",
    "    for char in txt:\n",
    "        result += 1     \n",
    "    return result"
   ]
  },
  {
   "cell_type": "code",
   "execution_count": 41,
   "metadata": {},
   "outputs": [],
   "source": [
    "#function to determine word count\n",
    "def count_words(data):\n",
    "    words = data.split(\" \")\n",
    "    num_words = len(words)\n",
    "    return num_words"
   ]
  },
  {
   "cell_type": "code",
   "execution_count": 42,
   "metadata": {},
   "outputs": [
    {
     "data": {
      "text/plain": [
       "[2, 3, 2]"
      ]
     },
     "execution_count": 42,
     "metadata": {},
     "output_type": "execute_result"
    }
   ],
   "source": [
    "test = ['a b','a b c', 'd e']\n",
    "[count_words(i) for i in test]"
   ]
  },
  {
   "cell_type": "code",
   "execution_count": 43,
   "metadata": {},
   "outputs": [],
   "source": [
    "def string_test(s):\n",
    "    d={\"UPPER_CASE\":0, \"LOWER_CASE\":0}\n",
    "    uc = d[\"UPPER_CASE\"]\n",
    "    lc = d[\"LOWER_CASE\"] \n",
    "\n",
    "    for c in s:\n",
    "        if c.isupper():\n",
    "            uc+=1\n",
    "        elif c.islower():\n",
    "            lc+=1\n",
    "        else:\n",
    "            pass\n",
    "     \n",
    "#     print (\"Original String : \", s)\n",
    "#     print (\"No. of Upper case characters : \", uc)\n",
    "#     print (\"No. of Lower case Characters : \", lc)\n",
    "    \n",
    "    return uc, lc"
   ]
  },
  {
   "cell_type": "code",
   "execution_count": 88,
   "metadata": {},
   "outputs": [],
   "source": [
    "# # function checks if the string contains any special character \n",
    "# def special(str1): \n",
    "#     alphabets = digits = special = 0\n",
    "\n",
    "#     for i in range(len(str1)):\n",
    "#         if((str1[i] >= 'a' and str1[i] <= 'z') or (str1[i] >= 'A' and str1[i] <= 'Z')): \n",
    "#             alphabets = alphabets + 1 \n",
    "#         elif(str1[i] >= '0' and str1[i] <= '9'):\n",
    "#             digits = digits + 1\n",
    "#         else:\n",
    "#             special = special + 1\n",
    "#     return special; "
   ]
  },
  {
   "cell_type": "code",
   "execution_count": 82,
   "metadata": {},
   "outputs": [],
   "source": [
    "char_count = [count_chars(header) for header in onion_headers]"
   ]
  },
  {
   "cell_type": "code",
   "execution_count": 83,
   "metadata": {},
   "outputs": [],
   "source": [
    "word_count = [count_words(header) for header in onion_headers]"
   ]
  },
  {
   "cell_type": "code",
   "execution_count": 84,
   "metadata": {},
   "outputs": [],
   "source": [
    "case_count = [string_test(header) for header in onion_headers]"
   ]
  },
  {
   "cell_type": "code",
   "execution_count": 85,
   "metadata": {},
   "outputs": [],
   "source": [
    "# special_count = [special(header) for header in onion_headers]"
   ]
  },
  {
   "cell_type": "code",
   "execution_count": 89,
   "metadata": {},
   "outputs": [],
   "source": [
    "dict = {'Headline': onion_headers, \n",
    "        'Character Count': char_count, \n",
    "        'Word Count': word_count, \n",
    "        'Upper Characters, Lower Case Characters': case_count}\n",
    "#        'SpecialChar Count': special_count   \n",
    "    \n",
    "df = pd.DataFrame(dict) "
   ]
  },
  {
   "cell_type": "code",
   "execution_count": 90,
   "metadata": {},
   "outputs": [
    {
     "data": {
      "text/html": [
       "<div>\n",
       "<style scoped>\n",
       "    .dataframe tbody tr th:only-of-type {\n",
       "        vertical-align: middle;\n",
       "    }\n",
       "\n",
       "    .dataframe tbody tr th {\n",
       "        vertical-align: top;\n",
       "    }\n",
       "\n",
       "    .dataframe thead th {\n",
       "        text-align: right;\n",
       "    }\n",
       "</style>\n",
       "<table border=\"1\" class=\"dataframe\">\n",
       "  <thead>\n",
       "    <tr style=\"text-align: right;\">\n",
       "      <th></th>\n",
       "      <th>Headline</th>\n",
       "      <th>Character Count</th>\n",
       "      <th>Word Count</th>\n",
       "      <th>Upper Characters, Lower Case Characters</th>\n",
       "    </tr>\n",
       "  </thead>\n",
       "  <tbody>\n",
       "    <tr>\n",
       "      <th>0</th>\n",
       "      <td>God Orders All Followers To Swallow Cyanide Ca...</td>\n",
       "      <td>96</td>\n",
       "      <td>15</td>\n",
       "      <td>(15, 67)</td>\n",
       "    </tr>\n",
       "    <tr>\n",
       "      <th>1</th>\n",
       "      <td>Supreme Court Rejects Adding Census Citizenshi...</td>\n",
       "      <td>56</td>\n",
       "      <td>7</td>\n",
       "      <td>(7, 43)</td>\n",
       "    </tr>\n",
       "    <tr>\n",
       "      <th>2</th>\n",
       "      <td>Extremely Effective Therapist Just Lets Patien...</td>\n",
       "      <td>84</td>\n",
       "      <td>14</td>\n",
       "      <td>(13, 56)</td>\n",
       "    </tr>\n",
       "    <tr>\n",
       "      <th>3</th>\n",
       "      <td>Mueller To Testify Before Congress</td>\n",
       "      <td>34</td>\n",
       "      <td>5</td>\n",
       "      <td>(5, 25)</td>\n",
       "    </tr>\n",
       "    <tr>\n",
       "      <th>4</th>\n",
       "      <td>Highlights Of The Democratic Primary Debate Day 2</td>\n",
       "      <td>49</td>\n",
       "      <td>8</td>\n",
       "      <td>(7, 34)</td>\n",
       "    </tr>\n",
       "    <tr>\n",
       "      <th>5</th>\n",
       "      <td>CD Projekt Red Announces ‘Cyberpunk 2077’ Will...</td>\n",
       "      <td>122</td>\n",
       "      <td>17</td>\n",
       "      <td>(18, 80)</td>\n",
       "    </tr>\n",
       "    <tr>\n",
       "      <th>6</th>\n",
       "      <td>Illinois Legalizes Marijuana</td>\n",
       "      <td>28</td>\n",
       "      <td>3</td>\n",
       "      <td>(3, 23)</td>\n",
       "    </tr>\n",
       "    <tr>\n",
       "      <th>7</th>\n",
       "      <td>Experts Say Earliest Warning Signs Of Mental H...</td>\n",
       "      <td>136</td>\n",
       "      <td>20</td>\n",
       "      <td>(20, 93)</td>\n",
       "    </tr>\n",
       "    <tr>\n",
       "      <th>8</th>\n",
       "      <td>Naked Andrew Yang Emerges From Time Vortex To ...</td>\n",
       "      <td>101</td>\n",
       "      <td>16</td>\n",
       "      <td>(16, 70)</td>\n",
       "    </tr>\n",
       "    <tr>\n",
       "      <th>9</th>\n",
       "      <td>Trump Picks Stephanie Grisham As New Press Sec...</td>\n",
       "      <td>52</td>\n",
       "      <td>8</td>\n",
       "      <td>(8, 37)</td>\n",
       "    </tr>\n",
       "    <tr>\n",
       "      <th>10</th>\n",
       "      <td>Highlights Of The Democratic Primary Debate Day 1</td>\n",
       "      <td>49</td>\n",
       "      <td>8</td>\n",
       "      <td>(7, 34)</td>\n",
       "    </tr>\n",
       "    <tr>\n",
       "      <th>11</th>\n",
       "      <td>Breaking New Ground: Beto O’Rourke Has Become ...</td>\n",
       "      <td>122</td>\n",
       "      <td>18</td>\n",
       "      <td>(21, 80)</td>\n",
       "    </tr>\n",
       "    <tr>\n",
       "      <th>12</th>\n",
       "      <td>OSHA Special Ops Team Raids Local Office After...</td>\n",
       "      <td>91</td>\n",
       "      <td>14</td>\n",
       "      <td>(17, 61)</td>\n",
       "    </tr>\n",
       "    <tr>\n",
       "      <th>13</th>\n",
       "      <td>Historians Reveal Aqueducts Were Only Small Po...</td>\n",
       "      <td>97</td>\n",
       "      <td>14</td>\n",
       "      <td>(14, 69)</td>\n",
       "    </tr>\n",
       "    <tr>\n",
       "      <th>14</th>\n",
       "      <td>Driver Kind Of Bummed To See Other Car He Been...</td>\n",
       "      <td>95</td>\n",
       "      <td>19</td>\n",
       "      <td>(19, 58)</td>\n",
       "    </tr>\n",
       "    <tr>\n",
       "      <th>15</th>\n",
       "      <td>Pence Declines To Say Whether Climate Change A...</td>\n",
       "      <td>53</td>\n",
       "      <td>9</td>\n",
       "      <td>(9, 36)</td>\n",
       "    </tr>\n",
       "    <tr>\n",
       "      <th>16</th>\n",
       "      <td>13.5 Million Americans Tune In To Watch Animal...</td>\n",
       "      <td>102</td>\n",
       "      <td>16</td>\n",
       "      <td>(17, 63)</td>\n",
       "    </tr>\n",
       "    <tr>\n",
       "      <th>17</th>\n",
       "      <td>Presidential Debate Sidetracked By Booker, De ...</td>\n",
       "      <td>109</td>\n",
       "      <td>17</td>\n",
       "      <td>(17, 75)</td>\n",
       "    </tr>\n",
       "    <tr>\n",
       "      <th>18</th>\n",
       "      <td>Beto O’Rourke Has Become The First Presidentia...</td>\n",
       "      <td>101</td>\n",
       "      <td>15</td>\n",
       "      <td>(18, 66)</td>\n",
       "    </tr>\n",
       "    <tr>\n",
       "      <th>19</th>\n",
       "      <td>Historians Reveal Aqueducts Were Only Small Po...</td>\n",
       "      <td>97</td>\n",
       "      <td>14</td>\n",
       "      <td>(14, 69)</td>\n",
       "    </tr>\n",
       "    <tr>\n",
       "      <th>20</th>\n",
       "      <td>Driver Kind Of Bummed To See Other Car He Been...</td>\n",
       "      <td>95</td>\n",
       "      <td>19</td>\n",
       "      <td>(19, 58)</td>\n",
       "    </tr>\n",
       "    <tr>\n",
       "      <th>21</th>\n",
       "      <td>Presidential Debate Sidetracked By Booker, De ...</td>\n",
       "      <td>109</td>\n",
       "      <td>17</td>\n",
       "      <td>(17, 75)</td>\n",
       "    </tr>\n",
       "  </tbody>\n",
       "</table>\n",
       "</div>"
      ],
      "text/plain": [
       "                                             Headline  Character Count  \\\n",
       "0   God Orders All Followers To Swallow Cyanide Ca...               96   \n",
       "1   Supreme Court Rejects Adding Census Citizenshi...               56   \n",
       "2   Extremely Effective Therapist Just Lets Patien...               84   \n",
       "3                  Mueller To Testify Before Congress               34   \n",
       "4   Highlights Of The Democratic Primary Debate Day 2               49   \n",
       "5   CD Projekt Red Announces ‘Cyberpunk 2077’ Will...              122   \n",
       "6                        Illinois Legalizes Marijuana               28   \n",
       "7   Experts Say Earliest Warning Signs Of Mental H...              136   \n",
       "8   Naked Andrew Yang Emerges From Time Vortex To ...              101   \n",
       "9   Trump Picks Stephanie Grisham As New Press Sec...               52   \n",
       "10  Highlights Of The Democratic Primary Debate Day 1               49   \n",
       "11  Breaking New Ground: Beto O’Rourke Has Become ...              122   \n",
       "12  OSHA Special Ops Team Raids Local Office After...               91   \n",
       "13  Historians Reveal Aqueducts Were Only Small Po...               97   \n",
       "14  Driver Kind Of Bummed To See Other Car He Been...               95   \n",
       "15  Pence Declines To Say Whether Climate Change A...               53   \n",
       "16  13.5 Million Americans Tune In To Watch Animal...              102   \n",
       "17  Presidential Debate Sidetracked By Booker, De ...              109   \n",
       "18  Beto O’Rourke Has Become The First Presidentia...              101   \n",
       "19  Historians Reveal Aqueducts Were Only Small Po...               97   \n",
       "20  Driver Kind Of Bummed To See Other Car He Been...               95   \n",
       "21  Presidential Debate Sidetracked By Booker, De ...              109   \n",
       "\n",
       "    Word Count Upper Characters, Lower Case Characters  \n",
       "0           15                                (15, 67)  \n",
       "1            7                                 (7, 43)  \n",
       "2           14                                (13, 56)  \n",
       "3            5                                 (5, 25)  \n",
       "4            8                                 (7, 34)  \n",
       "5           17                                (18, 80)  \n",
       "6            3                                 (3, 23)  \n",
       "7           20                                (20, 93)  \n",
       "8           16                                (16, 70)  \n",
       "9            8                                 (8, 37)  \n",
       "10           8                                 (7, 34)  \n",
       "11          18                                (21, 80)  \n",
       "12          14                                (17, 61)  \n",
       "13          14                                (14, 69)  \n",
       "14          19                                (19, 58)  \n",
       "15           9                                 (9, 36)  \n",
       "16          16                                (17, 63)  \n",
       "17          17                                (17, 75)  \n",
       "18          15                                (18, 66)  \n",
       "19          14                                (14, 69)  \n",
       "20          19                                (19, 58)  \n",
       "21          17                                (17, 75)  "
      ]
     },
     "execution_count": 90,
     "metadata": {},
     "output_type": "execute_result"
    }
   ],
   "source": [
    "df"
   ]
  },
  {
   "cell_type": "code",
   "execution_count": 27,
   "metadata": {},
   "outputs": [],
   "source": [
    "df.to_csv('out.csv')"
   ]
  },
  {
   "cell_type": "code",
   "execution_count": null,
   "metadata": {},
   "outputs": [],
   "source": []
  }
 ],
 "metadata": {
  "kernelspec": {
   "display_name": "Python 3",
   "language": "python",
   "name": "python3"
  },
  "language_info": {
   "codemirror_mode": {
    "name": "ipython",
    "version": 3
   },
   "file_extension": ".py",
   "mimetype": "text/x-python",
   "name": "python",
   "nbconvert_exporter": "python",
   "pygments_lexer": "ipython3",
   "version": "3.7.1"
  }
 },
 "nbformat": 4,
 "nbformat_minor": 2
}
